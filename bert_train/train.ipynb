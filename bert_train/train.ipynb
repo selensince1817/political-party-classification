{
 "cells": [
  {
   "cell_type": "code",
   "execution_count": 1,
   "id": "initial_id",
   "metadata": {
    "collapsed": true,
    "ExecuteTime": {
     "end_time": "2024-05-05T23:03:14.909414Z",
     "start_time": "2024-05-05T23:03:04.745680Z"
    }
   },
   "outputs": [
    {
     "name": "stdout",
     "output_type": "stream",
     "text": [
      "Requirement already satisfied: transformers in /Users/selen/anaconda3/lib/python3.11/site-packages (4.32.1)\r\n",
      "Requirement already satisfied: datasets in /Users/selen/anaconda3/lib/python3.11/site-packages (2.12.0)\r\n",
      "Collecting evaluate\r\n",
      "  Obtaining dependency information for evaluate from https://files.pythonhosted.org/packages/c2/d6/ff9baefc8fc679dcd9eb21b29da3ef10c81aa36be630a7ae78e4611588e1/evaluate-0.4.2-py3-none-any.whl.metadata\r\n",
      "  Downloading evaluate-0.4.2-py3-none-any.whl.metadata (9.3 kB)\r\n",
      "Collecting accelerate\r\n",
      "  Obtaining dependency information for accelerate from https://files.pythonhosted.org/packages/42/18/e36672c1fb46d71e9a119593511e2e1eb532df462eb4d10cf3ef8f1be5e7/accelerate-0.30.0-py3-none-any.whl.metadata\r\n",
      "  Downloading accelerate-0.30.0-py3-none-any.whl.metadata (19 kB)\r\n",
      "Requirement already satisfied: filelock in /Users/selen/anaconda3/lib/python3.11/site-packages (from transformers) (3.9.0)\r\n",
      "Requirement already satisfied: huggingface-hub<1.0,>=0.15.1 in /Users/selen/anaconda3/lib/python3.11/site-packages (from transformers) (0.15.1)\r\n",
      "Requirement already satisfied: numpy>=1.17 in /Users/selen/anaconda3/lib/python3.11/site-packages (from transformers) (1.24.3)\r\n",
      "Requirement already satisfied: packaging>=20.0 in /Users/selen/anaconda3/lib/python3.11/site-packages (from transformers) (23.1)\r\n",
      "Requirement already satisfied: pyyaml>=5.1 in /Users/selen/anaconda3/lib/python3.11/site-packages (from transformers) (6.0)\r\n",
      "Requirement already satisfied: regex!=2019.12.17 in /Users/selen/anaconda3/lib/python3.11/site-packages (from transformers) (2022.7.9)\r\n",
      "Requirement already satisfied: requests in /Users/selen/anaconda3/lib/python3.11/site-packages (from transformers) (2.31.0)\r\n",
      "Requirement already satisfied: tokenizers!=0.11.3,<0.14,>=0.11.1 in /Users/selen/anaconda3/lib/python3.11/site-packages (from transformers) (0.13.2)\r\n",
      "Requirement already satisfied: safetensors>=0.3.1 in /Users/selen/anaconda3/lib/python3.11/site-packages (from transformers) (0.3.2)\r\n",
      "Requirement already satisfied: tqdm>=4.27 in /Users/selen/anaconda3/lib/python3.11/site-packages (from transformers) (4.65.0)\r\n",
      "Requirement already satisfied: pyarrow>=8.0.0 in /Users/selen/anaconda3/lib/python3.11/site-packages (from datasets) (11.0.0)\r\n",
      "Requirement already satisfied: dill<0.3.7,>=0.3.0 in /Users/selen/anaconda3/lib/python3.11/site-packages (from datasets) (0.3.6)\r\n",
      "Requirement already satisfied: pandas in /Users/selen/anaconda3/lib/python3.11/site-packages (from datasets) (2.0.3)\r\n",
      "Requirement already satisfied: xxhash in /Users/selen/anaconda3/lib/python3.11/site-packages (from datasets) (2.0.2)\r\n",
      "Requirement already satisfied: multiprocess in /Users/selen/anaconda3/lib/python3.11/site-packages (from datasets) (0.70.14)\r\n",
      "Requirement already satisfied: fsspec[http]>=2021.11.1 in /Users/selen/anaconda3/lib/python3.11/site-packages (from datasets) (2023.4.0)\r\n",
      "Requirement already satisfied: aiohttp in /Users/selen/anaconda3/lib/python3.11/site-packages (from datasets) (3.8.5)\r\n",
      "Requirement already satisfied: responses<0.19 in /Users/selen/anaconda3/lib/python3.11/site-packages (from datasets) (0.13.3)\r\n",
      "Requirement already satisfied: psutil in /Users/selen/anaconda3/lib/python3.11/site-packages (from accelerate) (5.9.0)\r\n",
      "Collecting torch>=1.10.0 (from accelerate)\r\n",
      "  Obtaining dependency information for torch>=1.10.0 from https://files.pythonhosted.org/packages/ad/08/c5e41eb22323db4a52260607598a207a2e1918916ae8201aa7a8ae005fcd/torch-2.3.0-cp311-none-macosx_11_0_arm64.whl.metadata\r\n",
      "  Downloading torch-2.3.0-cp311-none-macosx_11_0_arm64.whl.metadata (26 kB)\r\n",
      "Requirement already satisfied: attrs>=17.3.0 in /Users/selen/anaconda3/lib/python3.11/site-packages (from aiohttp->datasets) (22.1.0)\r\n",
      "Requirement already satisfied: charset-normalizer<4.0,>=2.0 in /Users/selen/anaconda3/lib/python3.11/site-packages (from aiohttp->datasets) (2.0.4)\r\n",
      "Requirement already satisfied: multidict<7.0,>=4.5 in /Users/selen/anaconda3/lib/python3.11/site-packages (from aiohttp->datasets) (6.0.2)\r\n",
      "Requirement already satisfied: async-timeout<5.0,>=4.0.0a3 in /Users/selen/anaconda3/lib/python3.11/site-packages (from aiohttp->datasets) (4.0.2)\r\n",
      "Requirement already satisfied: yarl<2.0,>=1.0 in /Users/selen/anaconda3/lib/python3.11/site-packages (from aiohttp->datasets) (1.8.1)\r\n",
      "Requirement already satisfied: frozenlist>=1.1.1 in /Users/selen/anaconda3/lib/python3.11/site-packages (from aiohttp->datasets) (1.3.3)\r\n",
      "Requirement already satisfied: aiosignal>=1.1.2 in /Users/selen/anaconda3/lib/python3.11/site-packages (from aiohttp->datasets) (1.2.0)\r\n",
      "Requirement already satisfied: typing-extensions>=3.7.4.3 in /Users/selen/anaconda3/lib/python3.11/site-packages (from huggingface-hub<1.0,>=0.15.1->transformers) (4.7.1)\r\n",
      "Requirement already satisfied: idna<4,>=2.5 in /Users/selen/anaconda3/lib/python3.11/site-packages (from requests->transformers) (3.4)\r\n",
      "Requirement already satisfied: urllib3<3,>=1.21.1 in /Users/selen/anaconda3/lib/python3.11/site-packages (from requests->transformers) (1.26.16)\r\n",
      "Requirement already satisfied: certifi>=2017.4.17 in /Users/selen/anaconda3/lib/python3.11/site-packages (from requests->transformers) (2023.7.22)\r\n",
      "Requirement already satisfied: six in /Users/selen/anaconda3/lib/python3.11/site-packages (from responses<0.19->datasets) (1.16.0)\r\n",
      "Collecting typing-extensions>=3.7.4.3 (from huggingface-hub<1.0,>=0.15.1->transformers)\r\n",
      "  Obtaining dependency information for typing-extensions>=3.7.4.3 from https://files.pythonhosted.org/packages/01/f3/936e209267d6ef7510322191003885de524fc48d1b43269810cd589ceaf5/typing_extensions-4.11.0-py3-none-any.whl.metadata\r\n",
      "  Downloading typing_extensions-4.11.0-py3-none-any.whl.metadata (3.0 kB)\r\n",
      "Requirement already satisfied: sympy in /Users/selen/anaconda3/lib/python3.11/site-packages (from torch>=1.10.0->accelerate) (1.11.1)\r\n",
      "Requirement already satisfied: networkx in /Users/selen/anaconda3/lib/python3.11/site-packages (from torch>=1.10.0->accelerate) (3.1)\r\n",
      "Requirement already satisfied: jinja2 in /Users/selen/anaconda3/lib/python3.11/site-packages (from torch>=1.10.0->accelerate) (3.1.2)\r\n",
      "Requirement already satisfied: python-dateutil>=2.8.2 in /Users/selen/anaconda3/lib/python3.11/site-packages (from pandas->datasets) (2.8.2)\r\n",
      "Requirement already satisfied: pytz>=2020.1 in /Users/selen/anaconda3/lib/python3.11/site-packages (from pandas->datasets) (2023.3.post1)\r\n",
      "Requirement already satisfied: tzdata>=2022.1 in /Users/selen/anaconda3/lib/python3.11/site-packages (from pandas->datasets) (2023.3)\r\n",
      "Requirement already satisfied: MarkupSafe>=2.0 in /Users/selen/anaconda3/lib/python3.11/site-packages (from jinja2->torch>=1.10.0->accelerate) (2.1.1)\r\n",
      "Requirement already satisfied: mpmath>=0.19 in /Users/selen/anaconda3/lib/python3.11/site-packages (from sympy->torch>=1.10.0->accelerate) (1.3.0)\r\n",
      "Downloading evaluate-0.4.2-py3-none-any.whl (84 kB)\r\n",
      "\u001B[2K   \u001B[38;2;114;156;31m━━━━━━━━━━━━━━━━━━━━━━━━━━━━━━━━━━━━━━━━\u001B[0m \u001B[32m84.1/84.1 kB\u001B[0m \u001B[31m4.4 MB/s\u001B[0m eta \u001B[36m0:00:00\u001B[0m\r\n",
      "\u001B[?25hDownloading accelerate-0.30.0-py3-none-any.whl (302 kB)\r\n",
      "\u001B[2K   \u001B[38;2;114;156;31m━━━━━━━━━━━━━━━━━━━━━━━━━━━━━━━━━━━━━━━━\u001B[0m \u001B[32m302.4/302.4 kB\u001B[0m \u001B[31m13.4 MB/s\u001B[0m eta \u001B[36m0:00:00\u001B[0m\r\n",
      "\u001B[?25hDownloading torch-2.3.0-cp311-none-macosx_11_0_arm64.whl (61.0 MB)\r\n",
      "\u001B[2K   \u001B[38;2;114;156;31m━━━━━━━━━━━━━━━━━━━━━━━━━━━━━━━━━━━━━━━━\u001B[0m \u001B[32m61.0/61.0 MB\u001B[0m \u001B[31m18.8 MB/s\u001B[0m eta \u001B[36m0:00:00\u001B[0mm eta \u001B[36m0:00:01\u001B[0m[36m0:00:01\u001B[0m\r\n",
      "\u001B[?25hDownloading typing_extensions-4.11.0-py3-none-any.whl (34 kB)\r\n",
      "Installing collected packages: typing-extensions, torch, accelerate, evaluate\r\n",
      "  Attempting uninstall: typing-extensions\r\n",
      "    Found existing installation: typing_extensions 4.7.1\r\n",
      "    Uninstalling typing_extensions-4.7.1:\r\n",
      "      Successfully uninstalled typing_extensions-4.7.1\r\n",
      "Successfully installed accelerate-0.30.0 evaluate-0.4.2 torch-2.3.0 typing-extensions-4.11.0\r\n"
     ]
    }
   ],
   "source": [
    "!pip install transformers datasets evaluate accelerate\n"
   ]
  },
  {
   "cell_type": "code",
   "outputs": [],
   "source": [
    "import numpy as np\n",
    "import evaluate\n",
    "from datasets import load_dataset\n",
    "from transformers import AutoTokenizer, AutoModelForSequenceClassification\n",
    "from transformers import TrainingArguments, Trainer"
   ],
   "metadata": {
    "collapsed": false
   },
   "id": "14664dc48043f1a1"
  },
  {
   "cell_type": "code",
   "outputs": [],
   "source": [
    "model_name = \"nlptown/bert-base-multilingual-uncased-sentiment\"\n",
    "\n",
    "tokenizer = AutoTokenizer.from_pretrained(model_name)\n",
    "model = AutoModelForSequenceClassification.from_pretrained(model_name)"
   ],
   "metadata": {
    "collapsed": false
   },
   "id": "f74a0bf942147022"
  }
 ],
 "metadata": {
  "kernelspec": {
   "display_name": "Python 3",
   "language": "python",
   "name": "python3"
  },
  "language_info": {
   "codemirror_mode": {
    "name": "ipython",
    "version": 2
   },
   "file_extension": ".py",
   "mimetype": "text/x-python",
   "name": "python",
   "nbconvert_exporter": "python",
   "pygments_lexer": "ipython2",
   "version": "2.7.6"
  }
 },
 "nbformat": 4,
 "nbformat_minor": 5
}
